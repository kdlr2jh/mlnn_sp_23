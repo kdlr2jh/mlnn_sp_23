{
 "cells": [
  {
   "cell_type": "markdown",
   "metadata": {},
   "source": [
    "# Neural Networks image recognition - ConvNet\n",
    "\n",
    "1. Add random noise (see below on `size parameter` on [`np.random.normal`](https://numpy.org/doc/stable/reference/random/generated/numpy.random.normal.html)) to the images in training and testing. **Make sure each image gets a different noise feature added to it. Inspect by printing out several images. Note - the `size` parameter should match the data. **\n",
    "2. Compare the `accuracy` of train and val after N epochs for MLNN with and without noise. \n",
    "3. Vary the amount of noise by changing the `scale` parameter in `np.random.normal` by a factor. Use `.1, .5, 1.0, 2.0, 4.0` for the `scale` and keep track of the `accuracy` for training and validation and plot these results.\n",
    "4. Compare these results with the previous week where we used a MultiLayer Perceptron (this week we use a ConvNet). "
   ]
  },
  {
   "cell_type": "markdown",
   "metadata": {},
   "source": [
    "# Neural Networks - Image Recognition "
   ]
  },
  {
   "cell_type": "code",
   "execution_count": 1,
   "metadata": {},
   "outputs": [],
   "source": [
    "import keras\n",
    "from keras.datasets import mnist\n",
    "from keras.models import Sequential\n",
    "from tensorflow.keras.optimizers import RMSprop\n",
    "from keras.layers import Dense, Dropout, Flatten\n",
    "from keras.layers import Conv2D, MaxPooling2D\n",
    "from keras import backend\n",
    "import tensorflow as tf "
   ]
  },
  {
   "cell_type": "markdown",
   "metadata": {},
   "source": [
    "## Conv Net\n",
    "Trains a simple convnet on the MNIST dataset.\n",
    "Gets to 99.25% test accuracy after 12 epochs\n",
    "(there is still a lot of margin for parameter tuning).\n"
   ]
  },
  {
   "cell_type": "code",
   "execution_count": 21,
   "metadata": {
    "scrolled": true
   },
   "outputs": [],
   "source": [
    "# input image dimensions\n",
    "img_rows, img_cols = 28, 28\n",
    "\n",
    "# the data, shuffled and split between train and test sets\n",
    "(x_train, y_train), (x_test, y_test) = mnist.load_data()"
   ]
  },
  {
   "cell_type": "code",
   "execution_count": 22,
   "metadata": {},
   "outputs": [
    {
     "data": {
      "text/plain": [
       "((60000, 28, 28), (60000,))"
      ]
     },
     "execution_count": 22,
     "metadata": {},
     "output_type": "execute_result"
    }
   ],
   "source": [
    "x_train.shape, y_train.shape"
   ]
  },
  {
   "cell_type": "code",
   "execution_count": 23,
   "metadata": {
    "scrolled": true
   },
   "outputs": [
    {
     "name": "stdout",
     "output_type": "stream",
     "text": [
      "x_train shape: (60000, 28, 28, 1)\n",
      "60000 train samples\n",
      "10000 test samples\n"
     ]
    }
   ],
   "source": [
    "if backend.image_data_format() == 'channels_first':\n",
    "    x_train = x_train.reshape(x_train.shape[0], 1, img_rows, img_cols)\n",
    "    x_test = x_test.reshape(x_test.shape[0], 1, img_rows, img_cols)\n",
    "    input_shape = (1, img_rows, img_cols)\n",
    "else:\n",
    "    x_train = x_train.reshape(x_train.shape[0], img_rows, img_cols, 1)\n",
    "    x_test = x_test.reshape(x_test.shape[0], img_rows, img_cols, 1)\n",
    "    input_shape = (img_rows, img_cols, 1)\n",
    "\n",
    "x_train = x_train.astype('float32')\n",
    "x_test = x_test.astype('float32')\n",
    "x_train /= 255\n",
    "x_test /= 255\n",
    "print('x_train shape:', x_train.shape)\n",
    "print(x_train.shape[0], 'train samples')\n",
    "print(x_test.shape[0], 'test samples')"
   ]
  },
  {
   "cell_type": "code",
   "execution_count": 24,
   "metadata": {},
   "outputs": [
    {
     "data": {
      "text/plain": [
       "(60000, 28, 28, 1)"
      ]
     },
     "execution_count": 24,
     "metadata": {},
     "output_type": "execute_result"
    }
   ],
   "source": [
    "x_train.shape"
   ]
  },
  {
   "cell_type": "code",
   "execution_count": 25,
   "metadata": {},
   "outputs": [],
   "source": [
    "batch_size = 128\n",
    "num_classes = 10\n",
    "epochs = 12\n",
    "\n",
    "# convert class vectors to binary class matrices\n",
    "y_train = keras.utils.np_utils.to_categorical(y_train, num_classes)\n",
    "y_test = keras.utils.np_utils.to_categorical(y_test, num_classes)"
   ]
  },
  {
   "cell_type": "code",
   "execution_count": 26,
   "metadata": {},
   "outputs": [
    {
     "data": {
      "text/plain": [
       "(array([[0., 0., 0., ..., 0., 0., 0.],\n",
       "        [1., 0., 0., ..., 0., 0., 0.],\n",
       "        [0., 0., 0., ..., 0., 0., 0.],\n",
       "        ...,\n",
       "        [0., 0., 0., ..., 0., 0., 0.],\n",
       "        [0., 0., 0., ..., 0., 0., 0.],\n",
       "        [0., 0., 0., ..., 0., 1., 0.]], dtype=float32),\n",
       " array([[0., 0., 0., ..., 1., 0., 0.],\n",
       "        [0., 0., 1., ..., 0., 0., 0.],\n",
       "        [0., 1., 0., ..., 0., 0., 0.],\n",
       "        ...,\n",
       "        [0., 0., 0., ..., 0., 0., 0.],\n",
       "        [0., 0., 0., ..., 0., 0., 0.],\n",
       "        [0., 0., 0., ..., 0., 0., 0.]], dtype=float32))"
      ]
     },
     "execution_count": 26,
     "metadata": {},
     "output_type": "execute_result"
    }
   ],
   "source": [
    "y_train, y_test"
   ]
  },
  {
   "cell_type": "code",
   "execution_count": 27,
   "metadata": {},
   "outputs": [
    {
     "data": {
      "text/plain": [
       "((60000, 28, 28, 1), (60000, 10))"
      ]
     },
     "execution_count": 27,
     "metadata": {},
     "output_type": "execute_result"
    }
   ],
   "source": [
    "x_train.shape, y_train.shape"
   ]
  },
  {
   "cell_type": "code",
   "execution_count": 28,
   "metadata": {},
   "outputs": [
    {
     "name": "stdout",
     "output_type": "stream",
     "text": [
      "Epoch 1/12\n",
      "469/469 [==============================] - 47s 100ms/step - loss: 2.2842 - accuracy: 0.1425 - val_loss: 2.2582 - val_accuracy: 0.2808\n",
      "Epoch 2/12\n",
      "469/469 [==============================] - 53s 113ms/step - loss: 2.2398 - accuracy: 0.2245 - val_loss: 2.2041 - val_accuracy: 0.3856\n",
      "Epoch 3/12\n",
      "469/469 [==============================] - 53s 112ms/step - loss: 2.1834 - accuracy: 0.3031 - val_loss: 2.1342 - val_accuracy: 0.4376\n",
      "Epoch 4/12\n",
      "469/469 [==============================] - 53s 112ms/step - loss: 2.1097 - accuracy: 0.3622 - val_loss: 2.0408 - val_accuracy: 0.5035\n",
      "Epoch 5/12\n",
      "469/469 [==============================] - 53s 113ms/step - loss: 2.0123 - accuracy: 0.4154 - val_loss: 1.9171 - val_accuracy: 0.5722\n",
      "Epoch 6/12\n",
      "469/469 [==============================] - 51s 110ms/step - loss: 1.8868 - accuracy: 0.4716 - val_loss: 1.7592 - val_accuracy: 0.6410\n",
      "Epoch 7/12\n",
      "469/469 [==============================] - 52s 111ms/step - loss: 1.7368 - accuracy: 0.5220 - val_loss: 1.5737 - val_accuracy: 0.7095\n",
      "Epoch 8/12\n",
      "469/469 [==============================] - 54s 115ms/step - loss: 1.5755 - accuracy: 0.5690 - val_loss: 1.3791 - val_accuracy: 0.7582\n",
      "Epoch 9/12\n",
      "469/469 [==============================] - 53s 113ms/step - loss: 1.4176 - accuracy: 0.6090 - val_loss: 1.1969 - val_accuracy: 0.7914\n",
      "Epoch 10/12\n",
      "469/469 [==============================] - 51s 109ms/step - loss: 1.2807 - accuracy: 0.6417 - val_loss: 1.0423 - val_accuracy: 0.8135\n",
      "Epoch 11/12\n",
      "469/469 [==============================] - 51s 109ms/step - loss: 1.1649 - accuracy: 0.6662 - val_loss: 0.9176 - val_accuracy: 0.8273\n",
      "Epoch 12/12\n",
      "469/469 [==============================] - 53s 112ms/step - loss: 1.0721 - accuracy: 0.6880 - val_loss: 0.8200 - val_accuracy: 0.8377\n",
      "Test loss: 0.8200458288192749\n",
      "Test accuracy: 0.8377000093460083\n"
     ]
    }
   ],
   "source": [
    "# define the model and evaluate without noise\n",
    "model = Sequential()\n",
    "model.add(Conv2D(32, kernel_size=(3, 3),\n",
    "                 activation='relu',\n",
    "                 input_shape=input_shape))\n",
    "model.add(Conv2D(64, (3, 3), activation='relu'))\n",
    "model.add(MaxPooling2D(pool_size=(2, 2)))\n",
    "model.add(Dropout(0.25))\n",
    "model.add(Flatten())\n",
    "model.add(Dense(128, activation='relu'))\n",
    "model.add(Dropout(0.5))\n",
    "model.add(Dense(num_classes, activation='softmax'))\n",
    "\n",
    "model.compile(loss=keras.losses.categorical_crossentropy,\n",
    "              optimizer=tf.keras.optimizers.Adadelta(),\n",
    "              metrics=['accuracy'])\n",
    "\n",
    "model.fit(x_train, y_train,\n",
    "          batch_size=batch_size,\n",
    "          epochs=epochs,\n",
    "          verbose=1,\n",
    "          validation_data=(x_test, y_test))\n",
    "score = model.evaluate(x_test, y_test, verbose=0)\n",
    "print('Test loss:', score[0])\n",
    "print('Test accuracy:', score[1])"
   ]
  },
  {
   "cell_type": "code",
   "execution_count": 29,
   "metadata": {},
   "outputs": [],
   "source": [
    "# create noisy data at scale 2\n",
    "from numpy import random\n",
    "\n",
    "rando = random.normal(loc=1, scale=2, size=x_train.shape)\n",
    "x_train_n = x_train + rando\n",
    "\n",
    "rando = random.normal(loc=1, scale=2, size=x_test.shape)\n",
    "x_test_n = x_test + rando"
   ]
  },
  {
   "cell_type": "code",
   "execution_count": null,
   "metadata": {},
   "outputs": [
    {
     "name": "stdout",
     "output_type": "stream",
     "text": [
      "Epoch 1/12\n",
      "469/469 [==============================] - 50s 106ms/step - loss: 2.4563 - accuracy: 0.1003 - val_loss: 2.3045 - val_accuracy: 0.1056\n",
      "Epoch 2/12\n",
      "469/469 [==============================] - 53s 114ms/step - loss: 2.3469 - accuracy: 0.1017 - val_loss: 2.2991 - val_accuracy: 0.1187\n",
      "Epoch 3/12\n",
      "469/469 [==============================] - 54s 115ms/step - loss: 2.3187 - accuracy: 0.1052 - val_loss: 2.3002 - val_accuracy: 0.1186\n",
      "Epoch 4/12\n",
      "469/469 [==============================] - 54s 115ms/step - loss: 2.3093 - accuracy: 0.1058 - val_loss: 2.3005 - val_accuracy: 0.1177\n",
      "Epoch 5/12\n",
      " 84/469 [====>.........................] - ETA: 44s - loss: 2.3051 - accuracy: 0.1098"
     ]
    }
   ],
   "source": [
    "# define the model and evaluate with noise\n",
    "model = Sequential()\n",
    "model.add(Conv2D(32, kernel_size=(3, 3),\n",
    "                 activation='relu',\n",
    "                 input_shape=input_shape))\n",
    "model.add(Conv2D(64, (3, 3), activation='relu'))\n",
    "model.add(MaxPooling2D(pool_size=(2, 2)))\n",
    "model.add(Dropout(0.25))\n",
    "model.add(Flatten())\n",
    "model.add(Dense(128, activation='relu'))\n",
    "model.add(Dropout(0.5))\n",
    "model.add(Dense(num_classes, activation='softmax'))\n",
    "\n",
    "model.compile(loss=keras.losses.categorical_crossentropy,\n",
    "              optimizer=tf.keras.optimizers.Adadelta(),\n",
    "              metrics=['accuracy'])\n",
    "\n",
    "model.fit(x_train_n, y_train,\n",
    "          batch_size=batch_size,\n",
    "          epochs=epochs,\n",
    "          verbose=1,\n",
    "          validation_data=(x_test_n, y_test))\n",
    "score = model.evaluate(x_test_n, y_test, verbose=0)\n",
    "print('Test loss:', score[0])\n",
    "print('Test accuracy:', score[1])"
   ]
  },
  {
   "cell_type": "code",
   "execution_count": 12,
   "metadata": {},
   "outputs": [
    {
     "name": "stdout",
     "output_type": "stream",
     "text": [
      "0.1\n",
      "Epoch 1/12\n",
      "469/469 [==============================] - 45s 96ms/step - loss: 2.3094 - accuracy: 0.1130 - val_loss: 2.2666 - val_accuracy: 0.2899\n",
      "Epoch 2/12\n",
      "469/469 [==============================] - 50s 107ms/step - loss: 2.2730 - accuracy: 0.1460 - val_loss: 2.2317 - val_accuracy: 0.4553\n",
      "Epoch 3/12\n",
      "469/469 [==============================] - 48s 102ms/step - loss: 2.2476 - accuracy: 0.1760 - val_loss: 2.2015 - val_accuracy: 0.5333\n",
      "Epoch 4/12\n",
      "469/469 [==============================] - 49s 105ms/step - loss: 2.2200 - accuracy: 0.2055 - val_loss: 2.1688 - val_accuracy: 0.6012\n",
      "Epoch 5/12\n",
      "469/469 [==============================] - 50s 106ms/step - loss: 2.1916 - accuracy: 0.2358 - val_loss: 2.1331 - val_accuracy: 0.6613\n",
      "Epoch 6/12\n",
      "469/469 [==============================] - 49s 104ms/step - loss: 2.1597 - accuracy: 0.2614 - val_loss: 2.0916 - val_accuracy: 0.6904\n",
      "Epoch 7/12\n",
      "469/469 [==============================] - 50s 107ms/step - loss: 2.1223 - accuracy: 0.2944 - val_loss: 2.0438 - val_accuracy: 0.7100\n",
      "Epoch 8/12\n",
      "469/469 [==============================] - 50s 107ms/step - loss: 2.0829 - accuracy: 0.3187 - val_loss: 1.9923 - val_accuracy: 0.7298\n",
      "Epoch 9/12\n",
      "469/469 [==============================] - 52s 110ms/step - loss: 2.0405 - accuracy: 0.3515 - val_loss: 1.9358 - val_accuracy: 0.7522\n",
      "Epoch 10/12\n",
      "469/469 [==============================] - 50s 106ms/step - loss: 1.9903 - accuracy: 0.3771 - val_loss: 1.8740 - val_accuracy: 0.7478\n",
      "Epoch 11/12\n",
      "469/469 [==============================] - 50s 107ms/step - loss: 1.9394 - accuracy: 0.4061 - val_loss: 1.8069 - val_accuracy: 0.7655\n",
      "Epoch 12/12\n",
      "469/469 [==============================] - 50s 107ms/step - loss: 1.8825 - accuracy: 0.4295 - val_loss: 1.7350 - val_accuracy: 0.7680\n",
      "Test loss: 1.73496675491333\n",
      "Test accuracy: 0.7680000066757202\n",
      "0.5\n",
      "Epoch 1/12\n",
      "469/469 [==============================] - 49s 105ms/step - loss: 2.0240 - accuracy: 0.2859 - val_loss: 1.7766 - val_accuracy: 0.6913\n",
      "Epoch 2/12\n",
      "469/469 [==============================] - 51s 108ms/step - loss: 1.9830 - accuracy: 0.3128 - val_loss: 1.7526 - val_accuracy: 0.6949\n",
      "Epoch 3/12\n",
      "469/469 [==============================] - 52s 110ms/step - loss: 1.9637 - accuracy: 0.3241 - val_loss: 1.7228 - val_accuracy: 0.7096\n",
      "Epoch 4/12\n",
      "469/469 [==============================] - 2145s 5s/step - loss: 1.9386 - accuracy: 0.3374 - val_loss: 1.6902 - val_accuracy: 0.7069\n",
      "Epoch 5/12\n",
      "469/469 [==============================] - 152s 323ms/step - loss: 1.9121 - accuracy: 0.3493 - val_loss: 1.6554 - val_accuracy: 0.7193\n",
      "Epoch 6/12\n",
      "469/469 [==============================] - 153s 325ms/step - loss: 1.8859 - accuracy: 0.3619 - val_loss: 1.6217 - val_accuracy: 0.7243\n",
      "Epoch 7/12\n",
      "469/469 [==============================] - 152s 323ms/step - loss: 1.8549 - accuracy: 0.3753 - val_loss: 1.5845 - val_accuracy: 0.7201\n",
      "Epoch 8/12\n",
      "469/469 [==============================] - 152s 324ms/step - loss: 1.8331 - accuracy: 0.3858 - val_loss: 1.5545 - val_accuracy: 0.7302\n",
      "Epoch 9/12\n",
      "469/469 [==============================] - 154s 328ms/step - loss: 1.8076 - accuracy: 0.3941 - val_loss: 1.5192 - val_accuracy: 0.7355\n",
      "Epoch 10/12\n",
      "469/469 [==============================] - 152s 324ms/step - loss: 1.7804 - accuracy: 0.4062 - val_loss: 1.4851 - val_accuracy: 0.7373\n",
      "Epoch 11/12\n",
      "469/469 [==============================] - 153s 325ms/step - loss: 1.7461 - accuracy: 0.4197 - val_loss: 1.4486 - val_accuracy: 0.7440\n",
      "Epoch 12/12\n",
      "469/469 [==============================] - 153s 325ms/step - loss: 1.7186 - accuracy: 0.4325 - val_loss: 1.4172 - val_accuracy: 0.7434\n",
      "Test loss: 1.417175054550171\n",
      "Test accuracy: 0.743399977684021\n",
      "1.0\n",
      "Epoch 1/12\n",
      "469/469 [==============================] - 114s 243ms/step - loss: 1.9630 - accuracy: 0.3077 - val_loss: 1.6148 - val_accuracy: 0.5862\n",
      "Epoch 2/12\n",
      "469/469 [==============================] - 54s 116ms/step - loss: 1.9336 - accuracy: 0.3189 - val_loss: 1.6190 - val_accuracy: 0.5949\n",
      "Epoch 3/12\n",
      "469/469 [==============================] - 51s 108ms/step - loss: 1.9188 - accuracy: 0.3277 - val_loss: 1.6088 - val_accuracy: 0.5913\n",
      "Epoch 4/12\n",
      "469/469 [==============================] - 51s 110ms/step - loss: 1.9121 - accuracy: 0.3288 - val_loss: 1.6002 - val_accuracy: 0.5926\n",
      "Epoch 5/12\n",
      "469/469 [==============================] - 53s 113ms/step - loss: 1.8956 - accuracy: 0.3391 - val_loss: 1.5770 - val_accuracy: 0.6001\n",
      "Epoch 6/12\n",
      "469/469 [==============================] - 58s 124ms/step - loss: 1.8838 - accuracy: 0.3402 - val_loss: 1.5618 - val_accuracy: 0.6090\n",
      "Epoch 7/12\n",
      "469/469 [==============================] - 51s 109ms/step - loss: 1.8711 - accuracy: 0.3474 - val_loss: 1.5508 - val_accuracy: 0.6088\n",
      "Epoch 8/12\n",
      "469/469 [==============================] - 49s 105ms/step - loss: 1.8589 - accuracy: 0.3514 - val_loss: 1.5382 - val_accuracy: 0.6103\n",
      "Epoch 9/12\n",
      "469/469 [==============================] - 51s 109ms/step - loss: 1.8439 - accuracy: 0.3582 - val_loss: 1.5211 - val_accuracy: 0.6105\n",
      "Epoch 10/12\n",
      "469/469 [==============================] - 52s 111ms/step - loss: 1.8299 - accuracy: 0.3632 - val_loss: 1.5088 - val_accuracy: 0.6138\n",
      "Epoch 11/12\n",
      "469/469 [==============================] - 55s 118ms/step - loss: 1.8197 - accuracy: 0.3664 - val_loss: 1.4952 - val_accuracy: 0.6182\n",
      "Epoch 12/12\n",
      "469/469 [==============================] - 56s 120ms/step - loss: 1.8007 - accuracy: 0.3744 - val_loss: 1.4804 - val_accuracy: 0.6203\n",
      "Test loss: 1.4804304838180542\n",
      "Test accuracy: 0.6202999949455261\n",
      "2.0\n",
      "Epoch 1/12\n",
      "469/469 [==============================] - 53s 114ms/step - loss: 2.1354 - accuracy: 0.2489 - val_loss: 1.9322 - val_accuracy: 0.3712\n",
      "Epoch 2/12\n",
      "469/469 [==============================] - 52s 111ms/step - loss: 2.0929 - accuracy: 0.2542 - val_loss: 1.9577 - val_accuracy: 0.3688\n",
      "Epoch 3/12\n",
      "469/469 [==============================] - 50s 107ms/step - loss: 2.0885 - accuracy: 0.2529 - val_loss: 1.9526 - val_accuracy: 0.3708\n",
      "Epoch 4/12\n",
      "469/469 [==============================] - 51s 108ms/step - loss: 2.0888 - accuracy: 0.2533 - val_loss: 1.9499 - val_accuracy: 0.3702\n",
      "Epoch 5/12\n",
      "469/469 [==============================] - 50s 106ms/step - loss: 2.0802 - accuracy: 0.2547 - val_loss: 1.9405 - val_accuracy: 0.3702\n",
      "Epoch 6/12\n",
      "469/469 [==============================] - 1666s 4s/step - loss: 2.0781 - accuracy: 0.2578 - val_loss: 1.9414 - val_accuracy: 0.3738\n",
      "Epoch 7/12\n",
      "469/469 [==============================] - 50s 108ms/step - loss: 2.0783 - accuracy: 0.2584 - val_loss: 1.9361 - val_accuracy: 0.3727\n",
      "Epoch 8/12\n",
      "469/469 [==============================] - 54s 115ms/step - loss: 2.0762 - accuracy: 0.2568 - val_loss: 1.9282 - val_accuracy: 0.3777\n",
      "Epoch 9/12\n",
      "469/469 [==============================] - 56s 119ms/step - loss: 2.0688 - accuracy: 0.2623 - val_loss: 1.9236 - val_accuracy: 0.3770\n",
      "Epoch 10/12\n",
      "469/469 [==============================] - 59s 126ms/step - loss: 2.0668 - accuracy: 0.2628 - val_loss: 1.9234 - val_accuracy: 0.3776\n",
      "Epoch 11/12\n",
      "469/469 [==============================] - 56s 119ms/step - loss: 2.0591 - accuracy: 0.2665 - val_loss: 1.9126 - val_accuracy: 0.3803\n",
      "Epoch 12/12\n",
      "469/469 [==============================] - 55s 116ms/step - loss: 2.0579 - accuracy: 0.2672 - val_loss: 1.9089 - val_accuracy: 0.3799\n",
      "Test loss: 1.9089007377624512\n",
      "Test accuracy: 0.3799000084400177\n",
      "4.0\n",
      "Epoch 1/12\n",
      "469/469 [==============================] - 52s 111ms/step - loss: 2.3215 - accuracy: 0.1720 - val_loss: 2.2195 - val_accuracy: 0.2007\n",
      "Epoch 2/12\n",
      "469/469 [==============================] - 53s 113ms/step - loss: 2.2589 - accuracy: 0.1702 - val_loss: 2.2369 - val_accuracy: 0.1912\n",
      "Epoch 3/12\n",
      "469/469 [==============================] - 52s 111ms/step - loss: 2.2576 - accuracy: 0.1654 - val_loss: 2.2406 - val_accuracy: 0.1881\n",
      "Epoch 4/12\n",
      "469/469 [==============================] - 50s 106ms/step - loss: 2.2572 - accuracy: 0.1658 - val_loss: 2.2444 - val_accuracy: 0.1846\n",
      "Epoch 5/12\n",
      "469/469 [==============================] - 51s 108ms/step - loss: 2.2540 - accuracy: 0.1649 - val_loss: 2.2414 - val_accuracy: 0.1886\n",
      "Epoch 6/12\n",
      "469/469 [==============================] - 65s 138ms/step - loss: 2.2540 - accuracy: 0.1644 - val_loss: 2.2418 - val_accuracy: 0.1885\n",
      "Epoch 7/12\n"
     ]
    },
    {
     "name": "stdout",
     "output_type": "stream",
     "text": [
      "469/469 [==============================] - 87s 185ms/step - loss: 2.2535 - accuracy: 0.1669 - val_loss: 2.2408 - val_accuracy: 0.1875\n",
      "Epoch 8/12\n",
      "469/469 [==============================] - 79s 169ms/step - loss: 2.2531 - accuracy: 0.1635 - val_loss: 2.2402 - val_accuracy: 0.1884\n",
      "Epoch 9/12\n",
      "469/469 [==============================] - 72s 154ms/step - loss: 2.2541 - accuracy: 0.1664 - val_loss: 2.2397 - val_accuracy: 0.1889\n",
      "Epoch 10/12\n",
      "469/469 [==============================] - 63s 134ms/step - loss: 2.2502 - accuracy: 0.1662 - val_loss: 2.2374 - val_accuracy: 0.1910\n",
      "Epoch 11/12\n",
      "469/469 [==============================] - 46s 98ms/step - loss: 2.2504 - accuracy: 0.1675 - val_loss: 2.2380 - val_accuracy: 0.1934\n",
      "Epoch 12/12\n",
      "469/469 [==============================] - 46s 98ms/step - loss: 2.2486 - accuracy: 0.1683 - val_loss: 2.2362 - val_accuracy: 0.1898\n",
      "Test loss: 2.2362260818481445\n",
      "Test accuracy: 0.18979999423027039\n"
     ]
    }
   ],
   "source": [
    "# define the model and evaluate with noise at difference scales\n",
    "scales = [.1, .5, 1.0, 2.0, 4.0]\n",
    "scores_n = []\n",
    "\n",
    "\n",
    "model = Sequential()\n",
    "model.add(Conv2D(32, kernel_size=(3, 3),\n",
    "                 activation='relu',\n",
    "                 input_shape=input_shape))\n",
    "model.add(Conv2D(64, (3, 3), activation='relu'))\n",
    "model.add(MaxPooling2D(pool_size=(2, 2)))\n",
    "model.add(Dropout(0.25))\n",
    "model.add(Flatten())\n",
    "model.add(Dense(128, activation='relu'))\n",
    "model.add(Dropout(0.5))\n",
    "model.add(Dense(num_classes, activation='softmax'))\n",
    "\n",
    "model.compile(loss=keras.losses.categorical_crossentropy,\n",
    "              optimizer=tf.keras.optimizers.Adadelta(),\n",
    "              metrics=['accuracy'])\n",
    "\n",
    "for scale in scales:\n",
    "        print(scale)\n",
    "        \n",
    "        x = random.normal(loc=1, scale=scale, size=x_train.shape)\n",
    "        x_train = x_train + x\n",
    "        \n",
    "        x = random.normal(loc=1, scale=scale, size=x_test.shape)\n",
    "        x_test = x_test + x\n",
    "\n",
    "        model.fit(x_train, y_train,\n",
    "          batch_size=batch_size,\n",
    "          epochs=epochs,\n",
    "          verbose=1,\n",
    "          validation_data=(x_test, y_test))\n",
    "        score = model.evaluate(x_test, y_test, verbose=0)\n",
    "        print('Test loss:', score[0])\n",
    "        print('Test accuracy:', score[1])\n",
    "        \n",
    "        scores_n.append(score)"
   ]
  },
  {
   "cell_type": "code",
   "execution_count": 13,
   "metadata": {},
   "outputs": [
    {
     "data": {
      "text/plain": [
       "[[1.73496675491333, 0.7680000066757202],\n",
       " [1.417175054550171, 0.743399977684021],\n",
       " [1.4804304838180542, 0.6202999949455261],\n",
       " [1.9089007377624512, 0.3799000084400177],\n",
       " [2.2362260818481445, 0.18979999423027039]]"
      ]
     },
     "execution_count": 13,
     "metadata": {},
     "output_type": "execute_result"
    }
   ],
   "source": [
    "scores_n"
   ]
  },
  {
   "cell_type": "code",
   "execution_count": null,
   "metadata": {},
   "outputs": [],
   "source": [
    "plt.figure()\n",
    "plt.plot(scales, train_accuracy, label = 'Train', c = \"Red\")\n",
    "plt.plot(scales, test_accuracy, label = 'Test', c = \"Blue\")\n",
    "plt.xlabel('Scale')\n",
    "plt.ylabel('Accuracy')\n",
    "plt.title('Accuracy of Image Model With Noise')\n",
    "plt.legend()\n",
    "plt.show()"
   ]
  }
 ],
 "metadata": {
  "kernelspec": {
   "display_name": "Python 3 (ipykernel)",
   "language": "python",
   "name": "python3"
  },
  "language_info": {
   "codemirror_mode": {
    "name": "ipython",
    "version": 3
   },
   "file_extension": ".py",
   "mimetype": "text/x-python",
   "name": "python",
   "nbconvert_exporter": "python",
   "pygments_lexer": "ipython3",
   "version": "3.9.13"
  }
 },
 "nbformat": 4,
 "nbformat_minor": 2
}
